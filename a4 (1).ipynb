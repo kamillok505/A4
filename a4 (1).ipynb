{
 "cells": [
  {
   "cell_type": "markdown",
   "id": "19195cbc",
   "metadata": {},
   "source": [
    "# A4"
   ]
  },
  {
   "cell_type": "markdown",
   "id": "357d953f",
   "metadata": {},
   "source": [
    "The Traveling Salesman Problem (TSP)\n",
    "The TSP tries to answer the following question: \"Given a list of cities and the distances\n",
    "between each pair of cities, what is the shortest possible route that visits each city exactly\n",
    "once and returns to the origin city?”\n",
    "The input of the problema is a list of cities and their connections, usually in a graph\n",
    "format, and the expected output is a list that contains the cities ordered accoring to their\n",
    "visit order, which is supposed to minimize the total traveling time between them."
   ]
  },
  {
   "cell_type": "markdown",
   "id": "3a397f6c",
   "metadata": {},
   "source": [
    "## Genetic algorithm"
   ]
  },
  {
   "cell_type": "markdown",
   "id": "770d5880",
   "metadata": {},
   "source": [
    "Given the network of cities G, any vector S may be seen as the chromosome\n",
    "corresponding to the route that travels across all the nodes of G. The objective is the\n",
    "implementation of a genetic algorithm to obtain the vector that minimizes the total time."
   ]
  },
  {
   "cell_type": "markdown",
   "id": "0d5d37c8",
   "metadata": {},
   "source": [
    "## Imports"
   ]
  },
  {
   "cell_type": "code",
   "execution_count": 1,
   "id": "86227049",
   "metadata": {
    "ExecuteTime": {
     "end_time": "2024-01-14T20:39:39.974084Z",
     "start_time": "2024-01-14T20:39:39.275668Z"
    }
   },
   "outputs": [],
   "source": [
    "%matplotlib inline \n",
    "\n",
    "import random\n",
    "import time\n",
    "import csv\n",
    "\n",
    "import numpy as np\n",
    "import pandas as pd\n",
    "import matplotlib.pyplot as plt\n",
    "\n",
    "from pprint import pprint as print "
   ]
  },
  {
   "cell_type": "markdown",
   "id": "420ef0f6",
   "metadata": {},
   "source": [
    "## Convenience Classes"
   ]
  },
  {
   "cell_type": "markdown",
   "id": "c8335dc9",
   "metadata": {},
   "source": [
    "### City"
   ]
  },
  {
   "cell_type": "markdown",
   "id": "793d7c06",
   "metadata": {},
   "source": [
    "The City class, which represents a city, possesses the properties of the city and has functions/ methods used for calculating the distance between the city and another city. Each path, represented by a chromosome, is formed by a set of cities.   "
   ]
  },
  {
   "cell_type": "code",
   "execution_count": 2,
   "id": "6a3d4ad0",
   "metadata": {
    "ExecuteTime": {
     "end_time": "2024-01-14T20:39:40.413126Z",
     "start_time": "2024-01-14T20:39:40.409242Z"
    }
   },
   "outputs": [],
   "source": [
    "class City:\n",
    "    def __init__(self, x, y):\n",
    "        self.x = x\n",
    "        self.y = y\n",
    "        \n",
    "    def distance(self, city):\n",
    "        xDis = abs(self.x - city.x)\n",
    "        yDis = abs(self.y - city.y)\n",
    "        distance = np.sqrt((xDis ** 2) + (yDis ** 2))\n",
    "        return distance\n",
    "    \n",
    "    def __repr__(self):\n",
    "        return \"(\" + str(self.x) + \",\" + str(self.y) + \")\""
   ]
  },
  {
   "cell_type": "markdown",
   "id": "17c39cd9",
   "metadata": {},
   "source": [
    "### Fitness"
   ]
  },
  {
   "cell_type": "markdown",
   "id": "d1337f65",
   "metadata": {},
   "source": [
    "The Fitness class, which represents the fitness function, possesses the properties of a path and has functions/methods used for calculating the fitness value of the path, which is based on the distance of the path. "
   ]
  },
  {
   "cell_type": "code",
   "execution_count": 3,
   "id": "b9eca58a",
   "metadata": {
    "ExecuteTime": {
     "end_time": "2024-01-14T20:39:41.015513Z",
     "start_time": "2024-01-14T20:39:40.990995Z"
    }
   },
   "outputs": [],
   "source": [
    "class Fitness:\n",
    "    def __init__(self, route):\n",
    "        self.route = route\n",
    "        self.distance = None\n",
    "        self.fitness = None\n",
    "    \n",
    "    def routeDistance(self):\n",
    "        if self.distance == None:\n",
    "            pathDistance = 0.0\n",
    "            for i in range(0, len(self.route)):\n",
    "                fromCity = self.route[i]\n",
    "                toCity = None\n",
    "                if i+1 < len(self.route):\n",
    "                    toCity = self.route[i+1]\n",
    "                else:\n",
    "                    toCity = self.route[0]\n",
    "                pathDistance += fromCity.distance(toCity)\n",
    "            self.distance = pathDistance\n",
    "        return self.distance\n",
    "    \n",
    "    def routeFitness(self):\n",
    "        if self.fitness == None:\n",
    "        # Fitness function (Simple division) that uses a simple \n",
    "        # division that divides one by the distance of the path\n",
    "            if self.routeDistance() != 0:\n",
    "                self.fitness = 1 / float(self.routeDistance()) \n",
    "                # Note: You must ensure a division by zero does not occur \n",
    "        return self.fitness\n"
   ]
  },
  {
   "cell_type": "markdown",
   "id": "e9ecd81d",
   "metadata": {},
   "source": [
    "## Population Initialization  "
   ]
  },
  {
   "cell_type": "markdown",
   "id": "02544afb",
   "metadata": {},
   "source": [
    "The population initialization function (or method) performs random initialization. This creates an initial population with completely random chromosomes (or solutions). There are three functions related to population initialization. \n",
    "\n",
    "The first function is genCityList() which generates a set of cities from a file.  "
   ]
  },
  {
   "cell_type": "code",
   "execution_count": 4,
   "id": "9d39ed7e",
   "metadata": {
    "ExecuteTime": {
     "end_time": "2024-01-14T20:45:22.306837Z",
     "start_time": "2024-01-14T20:45:22.292314Z"
    }
   },
   "outputs": [],
   "source": [
    "def genCityList(filename):\n",
    "    cityList = []\n",
    "    \n",
    "    with open(filename, 'r') as file:\n",
    "        for line in file:\n",
    "            _, x, y = line.split()  # Разделение строки на части, игнорирование первого элемента\n",
    "            cityList.append(City(x=float(x), y=float(y)))\n",
    "    \n",
    "    return cityList\n"
   ]
  },
  {
   "cell_type": "code",
   "execution_count": 5,
   "id": "1f9ac614",
   "metadata": {
    "ExecuteTime": {
     "end_time": "2024-01-14T20:39:42.719510Z",
     "start_time": "2024-01-14T20:39:42.715003Z"
    }
   },
   "outputs": [],
   "source": [
    "def createRoute(cityList):\n",
    "    route = random.sample(cityList, len(cityList))\n",
    "    return route"
   ]
  },
  {
   "cell_type": "code",
   "execution_count": 6,
   "id": "4ae07df2",
   "metadata": {
    "ExecuteTime": {
     "end_time": "2024-01-14T20:39:43.312942Z",
     "start_time": "2024-01-14T20:39:43.309423Z"
    }
   },
   "outputs": [],
   "source": [
    "def initialPopulation(popSize, cityList):\n",
    "    population = []\n",
    "    for i in range(0, popSize):\n",
    "        population.append(createRoute(cityList))\n",
    "    return population"
   ]
  },
  {
   "cell_type": "code",
   "execution_count": 8,
   "id": "76b6399d",
   "metadata": {},
   "outputs": [
    {
     "name": "stdout",
     "output_type": "stream",
     "text": [
      "[(30133.3333,57633.3333),\n",
      " (30166.6667,57100.0),\n",
      " (30233.3333,57583.3333),\n",
      " (30250.0,56850.0),\n",
      " (30250.0,56950.0),\n",
      " (30250.0,57583.3333),\n",
      " (30300.0,56966.6667),\n",
      " (30316.6667,56816.6667),\n",
      " (30400.0,56466.6667),\n",
      " (30400.0,56783.3333)]\n"
     ]
    }
   ],
   "source": [
    "cityList = genCityList('cities10.txt') \n",
    "print(cityList)"
   ]
  },
  {
   "cell_type": "markdown",
   "id": "600364cc",
   "metadata": {},
   "source": [
    "Sample run 2 initializes 10 cities in cityList and creates a population with three routes as follows:"
   ]
  },
  {
   "cell_type": "code",
   "execution_count": 10,
   "id": "4c0bc219",
   "metadata": {},
   "outputs": [
    {
     "name": "stdout",
     "output_type": "stream",
     "text": [
      "[[(30133.3333,57633.3333),\n",
      "  (30233.3333,57583.3333),\n",
      "  (30316.6667,56816.6667),\n",
      "  (30250.0,56850.0),\n",
      "  (30250.0,57583.3333),\n",
      "  (30166.6667,57100.0),\n",
      "  (30300.0,56966.6667),\n",
      "  (30250.0,56950.0),\n",
      "  (30400.0,56783.3333),\n",
      "  (30400.0,56466.6667)],\n",
      " [(30316.6667,56816.6667),\n",
      "  (30133.3333,57633.3333),\n",
      "  (30250.0,56950.0),\n",
      "  (30166.6667,57100.0),\n",
      "  (30400.0,56466.6667),\n",
      "  (30300.0,56966.6667),\n",
      "  (30250.0,56850.0),\n",
      "  (30400.0,56783.3333),\n",
      "  (30233.3333,57583.3333),\n",
      "  (30250.0,57583.3333)],\n",
      " [(30400.0,56466.6667),\n",
      "  (30316.6667,56816.6667),\n",
      "  (30250.0,56950.0),\n",
      "  (30233.3333,57583.3333),\n",
      "  (30400.0,56783.3333),\n",
      "  (30250.0,56850.0),\n",
      "  (30300.0,56966.6667),\n",
      "  (30133.3333,57633.3333),\n",
      "  (30250.0,57583.3333),\n",
      "  (30166.6667,57100.0)]]\n"
     ]
    }
   ],
   "source": [
    "cityList = genCityList('cities10.txt') \n",
    "population = initialPopulation(3, cityList) \n",
    "print(population)"
   ]
  },
  {
   "cell_type": "markdown",
   "id": "f8aac59f",
   "metadata": {},
   "source": [
    "## Selection"
   ]
  },
  {
   "cell_type": "markdown",
   "id": "cb5cfd2d",
   "metadata": {},
   "source": [
    "Parents selection selects chromosomes with high fitness values from a population. Survivor selection selects chromosomes with higher fitness values to form the population of the next generation. The population size is len(population), so we have len(population) in this population. "
   ]
  },
  {
   "cell_type": "markdown",
   "id": "91040238",
   "metadata": {},
   "source": [
    "### Parent Selection\n",
    "\n"
   ]
  },
  {
   "cell_type": "code",
   "execution_count": 14,
   "id": "53e6ed39",
   "metadata": {
    "ExecuteTime": {
     "end_time": "2024-01-14T20:39:46.085047Z",
     "start_time": "2024-01-14T20:39:46.080929Z"
    }
   },
   "outputs": [],
   "source": [
    "def tournamentSelection(population, poolSize=None, tournamentSize=3):\n",
    "    if poolSize == None:\n",
    "        poolSize = len(population)\n",
    "        \n",
    "    matingPool = []\n",
    "    \n",
    "   for _ in range(poolSize):\n",
    "   tournament = random.sample(population, tournamentSize)\n",
    "          bestIndividual = max(tournament, key=lambda individual: individual.fitness)\n",

    "    matingPool.append(bestIndividual)\n",
    "    return matingPool"
   ]
  },
  {
   "cell_type": "code",
   "execution_count": 15,
   "id": "2ccaef4a",
   "metadata": {
    "ExecuteTime": {
     "end_time": "2024-01-14T20:39:46.671283Z",
     "start_time": "2024-01-14T20:39:46.667757Z"
    }
   },
   "outputs": [],
   "source": [
    "def stochasticUniversalSampling(population, poolSize=None):\n",
    "    # Set the pool size to the length of the population if not specified\n",
    "    if poolSize is None:\n",
    "        poolSize = len(population)\n",
    "    \n",
    "    # Initialize the mating pool\n",
    "    matingPool = []\n",
    "    \n",
    "    # Implementing Stochastic Universal Sampling\n",
    "    stepSize = 1.0 / poolSize\n",
    "    pointer = random.uniform(0, stepSize)\n",
    "    total = 0\n",
    "    for individual in population:\n",
    "        total += individual.fitness\n",
    "        while pointer <= total:\n",
    "            matingPool.append(individual)\n",
    "            pointer += stepSize\n",
    "\n",
    "    # Truncate the mating pool to the desired pool size\n",
    "    matingPool = matingPool[:poolSize]\n",
    "    \n",
    "    return matingPool\n",
    "\n"
   ]
  },
  {
   "cell_type": "markdown",
   "id": "767df4e1",
   "metadata": {},
   "source": [
    "### Survival Selection"
   ]
  },
  {
   "cell_type": "code",
   "execution_count": 16,
   "id": "80f74e5a",
   "metadata": {
    "ExecuteTime": {
     "end_time": "2024-01-14T20:39:47.505813Z",
     "start_time": "2024-01-14T20:39:47.488887Z"
    }
   },
   "outputs": [],
   "source": [
    "def survivorSelection(population, eliteSize):\n",
    "\n",
    "    elites = []\n",
    "    \n",
    "    for i in range(eliteSize):\n",
    "        elites.append(population[i])\n",
    "    \n",
    "    return elites"
   ]
  },
  {
   "cell_type": "markdown",
   "id": "c4431342",
   "metadata": {},
   "source": [
    " initializes 10 cities in cityList, creates a population with four routes, select an elite chromosome as follows:"
   ]
  },
  {
   "cell_type": "code",
   "execution_count": 18,
   "id": "0f6e9c99",
   "metadata": {},
   "outputs": [
    {
     "name": "stdout",
     "output_type": "stream",
     "text": [
      "'Initial population'\n",
      "[[(30316.6667,56816.6667),\n",
      "  (30233.3333,57583.3333),\n",
      "  (30166.6667,57100.0),\n",
      "  (30300.0,56966.6667),\n",
      "  (30250.0,56950.0),\n",
      "  (30400.0,56783.3333),\n",
      "  (30250.0,57583.3333),\n",
      "  (30250.0,56850.0),\n",
      "  (30400.0,56466.6667),\n",
      "  (30133.3333,57633.3333)],\n",
      " [(30250.0,56850.0),\n",
      "  (30250.0,56950.0),\n",
      "  (30250.0,57583.3333),\n",
      "  (30400.0,56783.3333),\n",
      "  (30166.6667,57100.0),\n",
      "  (30133.3333,57633.3333),\n",
      "  (30300.0,56966.6667),\n",
      "  (30233.3333,57583.3333),\n",
      "  (30316.6667,56816.6667),\n",
      "  (30400.0,56466.6667)],\n",
      " [(30166.6667,57100.0),\n",
      "  (30400.0,56466.6667),\n",
      "  (30250.0,56950.0),\n",
      "  (30316.6667,56816.6667),\n",
      "  (30133.3333,57633.3333),\n",
      "  (30233.3333,57583.3333),\n",
      "  (30250.0,57583.3333),\n",
      "  (30400.0,56783.3333),\n",
      "  (30250.0,56850.0),\n",
      "  (30300.0,56966.6667)],\n",
      " [(30250.0,57583.3333),\n",
      "  (30400.0,56783.3333),\n",
      "  (30250.0,56850.0),\n",
      "  (30300.0,56966.6667),\n",
      "  (30316.6667,56816.6667),\n",
      "  (30400.0,56466.6667),\n",
      "  (30233.3333,57583.3333),\n",
      "  (30133.3333,57633.3333),\n",
      "  (30166.6667,57100.0),\n",
      "  (30250.0,56950.0)]]\n",
      "'Selected elites'\n",
      "[[(30316.6667,56816.6667),\n",
      "  (30233.3333,57583.3333),\n",
      "  (30166.6667,57100.0),\n",
      "  (30300.0,56966.6667),\n",
      "  (30250.0,56950.0),\n",
      "  (30400.0,56783.3333),\n",
      "  (30250.0,57583.3333),\n",
      "  (30250.0,56850.0),\n",
      "  (30400.0,56466.6667),\n",
      "  (30133.3333,57633.3333)]]\n"
     ]
    }
   ],
   "source": [
    "population = initialPopulation(4, genCityList('cities10.txt'))\n",
    "elites = survivorSelection(population, 1)\n",
    "print('Initial population')\n",
    "print(population)\n",
    "print('Selected elites')\n",
    "print(elites)"
   ]
  },
  {
   "cell_type": "markdown",
   "id": "ebba82a2",
   "metadata": {},
   "source": [
    "## Crossover\n"
   ]
  },
  {
   "cell_type": "code",
   "execution_count": 19,
   "id": "691f9387-a482-4d10-ae9a-f5c2f0523de2",
   "metadata": {
    "ExecuteTime": {
     "end_time": "2024-01-14T20:39:52.144192Z",
     "start_time": "2024-01-14T20:39:52.136666Z"
    }
   },
   "outputs": [],
   "source": [
    "def insertGene(insert, insert_index, child1, child2, fixed_child1, fixed_child2):\n",
    "    # print(\"(\" + str(insert) + \", \" + str(insert_index) + \", \" + str(child1) + \", \" + str(child2) + \")\")\n",
    "\n",
    "    insert_in_child1 = insert in fixed_child1\n",
    "    if insert_in_child1 == False:\n",
    "        child1.insert(insert_index, insert)\n",
    "    else:\n",
    "        found_index = fixed_child1.index(insert)\n",
    "        insert = fixed_child2[found_index]\n",
    "        return insertGene(insert, insert_index, child1, child2, fixed_child1, fixed_child2)"
   ]
  },
  {
   "cell_type": "code",
   "execution_count": 20,
   "id": "3971ef6e-3c1e-4f96-b7e7-7857a761fa27",
   "metadata": {
    "ExecuteTime": {
     "end_time": "2024-01-14T20:39:52.605559Z",
     "start_time": "2024-01-14T20:39:52.596451Z"
    }
   },
   "outputs": [
    {
     "name": "stdout",
     "output_type": "stream",
     "text": [
      "[2, 1, 0, 7, 3, 5, 4, 6]\n",
      "[6, 1, 0, 5, 2, 3, 4, 7]\n",
      "[7, 1, 0, 5, 2, 3, 4, 6]\n",
      "[6, 1, 0, 7, 3, 5, 4, 2]\n"
     ]
    }
   ],
   "source": [
    "parent1 = [2,1,0,7,3,5,4,6]\n",
    "parent2 = [6,1,0,5,2,3,4,7]\n",
    "\n",
    "print(parent1)\n",
    "print(parent2)\n",
    "\n",
    "child1 = parent2[2:6] # 2-5\n",
    "child2 = parent1[2:6] # 2-5\n",
    "\n",
    "for i in range(0, 2): # 0-1\n",
    "    insertGene(parent1[i], i, child1, child2, child1, child2)\n",
    "for i in range(6, 8): # 6-7\n",
    "    insertGene(parent1[i], i, child1, child2, child1, child2)\n",
    "\n",
    "for i in range(0, 2): # 0-1\n",
    "    insertGene(parent2[i], i, child2, child1, child2, child1)\n",
    "for i in range(6, 8): # 6-7\n",
    "    insertGene(parent2[i], i, child2, child1, child2, child1)\n",
    "\n",
    "print(child1)\n",
    "print(child2)"
   ]
  },
  {
   "cell_type": "code",
   "execution_count": 21,
   "id": "2bb0c8be",
   "metadata": {
    "ExecuteTime": {
     "end_time": "2024-01-14T20:39:53.173636Z",
     "start_time": "2024-01-14T20:39:53.165269Z"
    }
   },
   "outputs": [],
   "source": [
    "import random as rd\n",
    "\n",
    "def crossover(parent1, parent2):\n",
    "    first_crossover = rd.randint(0, len(parent1)-1)\n",
    "    second_crossover = rd.randint(0, len(parent1)-1)\n",
    "    while second_crossover - first_crossover != 2:\n",
    "        first_crossover = rd.randint(0, len(parent1)-1)\n",
    "        second_crossover = rd.randint(0, len(parent1)-1)\n",
    "    # print(\"Crossovers: \" + str(first_crossover) + \", \" + str(second_crossover))\n",
    "        \n",
    "    # swap the genes between the crossover\n",
    "    child2 = parent1[first_crossover : second_crossover+1]\n",
    "    child1 = parent2[first_crossover : second_crossover+1]\n",
    "    fixed_child1 = child1.copy()\n",
    "    fixed_child2 = child2.copy()\n",
    "    \n",
    "    # fill in the rest of the genes\n",
    "    for i in range(0, first_crossover):\n",
    "        insertGene(parent1[i], i, child1, child2, fixed_child1, fixed_child2)\n",
    "    for i in range(second_crossover+1, len(parent1)):\n",
    "        insertGene(parent1[i], i, child1, child2, fixed_child1, fixed_child2)\n",
    "        \n",
    "    for i in range(0, first_crossover):\n",
    "        insertGene(parent2[i], i, child2, child1, fixed_child2, fixed_child1)\n",
    "    for i in range(second_crossover+1, len(parent1)):\n",
    "        insertGene(parent2[i], i, child2, child1, fixed_child2, fixed_child1)\n",
    "    \n",
    "    return child1, child2"
   ]
  },
  {
   "cell_type": "code",
   "execution_count": 22,
   "id": "e8b942e8-6af0-4bb4-b90d-8b8fc7833872",
   "metadata": {
    "ExecuteTime": {
     "end_time": "2024-01-14T20:39:53.874829Z",
     "start_time": "2024-01-14T20:39:53.869493Z"
    }
   },
   "outputs": [
    {
     "name": "stdout",
     "output_type": "stream",
     "text": [
      "[2, 1, 0, 7, 3, 5, 4, 6]\n",
      "[6, 1, 0, 5, 2, 3, 4, 7]\n",
      "[2, 1, 0, 5, 3, 7, 4, 6]\n",
      "[6, 1, 0, 7, 2, 3, 4, 5]\n"
     ]
    }
   ],
   "source": [
    "parent1 = [2,1,0,7,3,5,4,6]\n",
    "parent2 = [6,1,0,5,2,3,4,7]\n",
    "print(parent1)\n",
    "print(parent2)\n",
    "child1, child2 = crossover(parent1, parent2)\n",
    "print(child1)\n",
    "print(child2)"
   ]
  },
  {
   "cell_type": "markdown",
   "id": "0508e984",
   "metadata": {},
   "source": [
    "## Mutation"
   ]
  },
  {
   "cell_type": "code",
   "execution_count": 26,
   "id": "fcc4c53b",
   "metadata": {
    "ExecuteTime": {
     "end_time": "2024-01-14T20:39:58.204020Z",
     "start_time": "2024-01-14T20:39:58.200265Z"
    }
   },
   "outputs": [],
   "source": [
    "def mutate(route, mutationProbability):\n",
    "    mutated_route = route[:]\n",
    "    for i in range(0,len(route)):\n",
    "        if (rd.random() < mutationProbability):\n",
    "\n",
    "            current_gene = route[i]\n",
    "            rand_insert_index = rd.randint(0, len(route)-1)            \n",
    "            mutated_route.remove(current_gene)\n",
    "            mutated_route.insert(rand_insert_index, current_gene)\n",
    "    \n",
    "    return mutated_route"
   ]
  },
  {
   "cell_type": "markdown",
   "id": "561658a7",
   "metadata": {},
   "source": [
    "Mutation runs over the entire population and mutates each chromosome in the population with a small mutationProbability. "
   ]
  },
  {
   "cell_type": "code",
   "execution_count": 27,
   "id": "18bcf873",
   "metadata": {
    "ExecuteTime": {
     "end_time": "2024-01-14T20:40:00.499432Z",
     "start_time": "2024-01-14T20:40:00.488239Z"
    }
   },
   "outputs": [],
   "source": [
    "def mutation(population, mutationProbability):\n",
    "    mutatedPopulation = []\n",
    "    for i in range(0, len(population)):\n",
    "        mutatedIndividual = mutate(population[i], mutationProbability)\n",
    "        mutatedPopulation.append(mutatedIndividual)\n",
    "    return mutatedPopulation"
   ]
  },
  {
   "cell_type": "code",
   "execution_count": 28,
   "id": "01e9a43b-5dd1-4cd4-a882-3f3b89921f97",
   "metadata": {
    "ExecuteTime": {
     "end_time": "2024-01-14T20:40:01.481970Z",
     "start_time": "2024-01-14T20:40:01.470429Z"
    }
   },
   "outputs": [
    {
     "name": "stdout",
     "output_type": "stream",
     "text": [
      "[[1, 2, 3, 5, 4, 6, 7, 8, 9, 10], [9, 8, 7, 6, 4, 3, 10, 5, 2, 1]]\n"
     ]
    }
   ],
   "source": [
    "route = [1,2,3,4,5,6,7,8,9,10]\n",
    "route2 = [10,9,8,7,6,5,4,3,2,1]\n",
    "population = [route, route2]\n",
    "\n",
    "mutatedPopulation = mutation(population, 0.1)\n",
    "print(mutatedPopulation)"
   ]
  },
  {
   "cell_type": "markdown",
   "id": "e2c7728f",
   "metadata": {},
   "source": [
    "The sample run initializes a route comprised of 10 cities in cityList, and then mutates it as follows:"
   ]
  },
  {
   "cell_type": "code",
   "execution_count": 29,
   "id": "268000dc",
   "metadata": {},
   "outputs": [
    {
     "name": "stdout",
     "output_type": "stream",
     "text": [
      "'Original route'\n",
      "[(30133.3333,57633.3333),\n",
      " (30166.6667,57100.0),\n",
      " (30233.3333,57583.3333),\n",
      " (30250.0,56850.0),\n",
      " (30250.0,56950.0),\n",
      " (30250.0,57583.3333),\n",
      " (30300.0,56966.6667),\n",
      " (30316.6667,56816.6667),\n",
      " (30400.0,56466.6667),\n",
      " (30400.0,56783.3333)]\n",
      "'Mutated route'\n",
      "[(30133.3333,57633.3333),\n",
      " (30400.0,56466.6667),\n",
      " (30233.3333,57583.3333),\n",
      " (30250.0,57583.3333),\n",
      " (30300.0,56966.6667),\n",
      " (30166.6667,57100.0),\n",
      " (30250.0,56950.0),\n",
      " (30316.6667,56816.6667),\n",
      " (30250.0,56850.0),\n",
      " (30400.0,56783.3333)]\n"
     ]
    }
   ],
   "source": [
    "route = genCityList('cities10.txt')\n",
    "mutated = mutate(route, 1)  # Give a pretty high chance for mutation\n",
    "print('Original route')\n",
    "print(route)\n",
    "print('Mutated route')\n",
    "print(mutated)"
   ]
  },
  {
   "cell_type": "markdown",
   "id": "1c0cf960",
   "metadata": {},
   "source": [
    "## Running One Generation (or Interation)"
   ]
  },
  {
   "cell_type": "markdown",
   "id": "2e4e26f5",
   "metadata": {},
   "source": [
    "Here, we run one generation of genetic algorithm. "
   ]
  },
  {
   "cell_type": "code",
   "execution_count": 17,
   "id": "57f76661",
   "metadata": {
    "ExecuteTime": {
     "end_time": "2024-01-14T20:40:04.024724Z",
     "start_time": "2024-01-14T20:40:04.022209Z"
    }
   },
   "outputs": [],
   "source": [
    "def oneGeneration(population, eliteSize, mutationProbability):\n",
    "    \n",
    "    # First we preserve the elites\n",
    "    elites = survivorSelection(population, eliteSize)\n",
    "    \n",
    "    # Then we calculate what our mating pool size should be and generate\n",
    "    # the mating pool\n",
    "    poolSize = len(population) - eliteSize\n",
    "    matingpool = parentSelection(population, poolSize)\n",
    "        \n",
    "    \n",
    "    # We combine the elites and children into one population\n",
    "    new_population = elites + children\n",
    "    \n",
    "    # We mutate the population\n",
    "    mutated_population = mutation(new_population, mutationProbability)\n",
    "        \n",
    "    return mutated_population"
   ]
  },
  {
   "cell_type": "markdown",
   "id": "daa87ed8",
   "metadata": {},
   "source": [
    " The sample run initializes a population comprised of 5 chromosomes based on 10 cities in cityList, and then run one generation (or iteration) of genetic algorithm as follows:"
   ]
  },
  {
   "cell_type": "markdown",
   "id": "df3d5e34",
   "metadata": {},
   "source": [
    "population = initialPopulation(5, genCityList('cities10.txt'))\n",
    "eliteSize = 1\n",
    "mutationProbability = 0.01\n",
    "new_population = oneGeneration(population, eliteSize, mutationProbability)\n",
    "print('Initial population')\n",
    "print(population)\n",
    "print('New population')\n",
    "print(new_population)"
   ]
  },
  {
   "cell_type": "markdown",
   "id": "500893f7",
   "metadata": {},
   "source": [
    "## Running Many Generations (or Interations) "
   ]
  },
  {
   "cell_type": "code",
   "execution_count": 32,
   "id": "cc61b752",
   "metadata": {
    "ExecuteTime": {
     "end_time": "2024-01-14T20:45:27.800710Z",
     "start_time": "2024-01-14T20:45:26.998351Z"
    },
    "scrolled": true
   },
   "outputs": [
    {
     "name": "stdout",
     "output_type": "stream",
     "text": [
      "'Best distance for initial population: 2772.5177530424576'\n",
      "('Optimal path is [(30250.0,57583.3333), (30133.3333,57633.3333), '\n",
      " '(30233.3333,57583.3333), (30400.0,56783.3333), (30400.0,56466.6667), '\n",
      " '(30250.0,56850.0), (30166.6667,57100.0), (30300.0,56966.6667), '\n",
      " '(30250.0,56950.0), (30316.6667,56816.6667)]')\n"
     ]
    }
   ],
   "source": [
    "filename = 'cities10.txt'\n",
    "popSize = 20\n",
    "eliteSize = 5\n",
    "mutationProbability = 0.01\n",
    "iteration_limit = 1000\n",
    "\n",
    "cityList = genCityList(filename)\n",
    "\n",
    "population = initialPopulation(popSize, cityList)\n",
    "distances = [Fitness(p).routeDistance() for p in population]\n",
    "min_dist = min(distances)\n",
    "print(\"Best distance for initial population: \" + str(min_dist))\n",
    "\n",
    "for i in range(iteration_limit):\n",
    "    population = oneGeneration(population, eliteSize, mutationProbability)\n",
    "    distances = [Fitness(p).routeDistance() for p in population]\n",
    "    index = np.argmin(distances)\n",
    "    best_route = population[index]\n",
    "    min_dist = min(distances)\n",
    "    # print(\"Best distance for population in iteration \" + str(i) +\n",
    "    #       \": \" + str(min_dist))\n",
    "\n",
    "print(\"Optimal path is \" + str(best_route)) "
   ]
  },
  {
   "cell_type": "code",
   "execution_count": 37,
   "id": "58caaa25-1605-4f8d-93dc-150cbb0360cb",
   "metadata": {},
   "outputs": [],
   "source": [
    "# Converting to a numpy array and normalizing\n",
    "points = np.array(coordinates)\n",
    "points = (points - points.min(axis=0)) / (points.max(axis=0) - points.min(axis=0))\n"
   ]
  },
  {
   "cell_type": "code",
   "execution_count": 40,
   "id": "1a3d64b2-3429-418e-851f-cc4bba486aed",
   "metadata": {},
   "outputs": [],
   "source": [
    "# Simple generic algorithm for TSP\n",
    "for _ in range(1000):  # Number of iterations\n",
    "    # Generate two indices to swap\n",
    "    i, j = random.sample(range(num_cities), 2)\n",
    "    new_path = path.copy()\n",
    "    new_path[i], new_path[j] = new_path[j], new_path[i]\n",
    "\n",
    "    # If the new path is better, accept it\n",
    "    if total_distance(new_path, points) < total_distance(path, points):\n",
    "        path = new_path\n"
   ]
  },
  {
   "cell_type": "code",
   "execution_count": 41,
   "id": "7e5ad5d1-0daf-4004-aac2-e3b73e7ee3bb",
   "metadata": {},
   "outputs": [
    {
     "data": {
      "image/png": "[encoded data removed]",
      "text/plain": [
       "<Figure size 1000x600 with 1 Axes>"
      ]
     },
     "metadata": {},
     "output_type": "display_data"
    }
   ],
   "source": [
    "# Visualization\n",
    "plt.figure(figsize=(10, 6))\n",
    "plt.plot(points[:, 0], points[:, 1], 'o', color='red')  # Cities\n",
    "\n",
    "# Draw the path\n",
    "for i in range(num_cities):\n",
    "    start_point = points[path[i-1]]\n",
    "    end_point = points[path[i]]\n",
    "    plt.plot([start_point[0], end_point[0]], [start_point[1], end_point[1]], 'k-')\n",
    "\n",
    "plt.title('Solution to TSP for Given Coordinates')\n",
    "plt.show()"
   ]
  },
  {
   "cell_type": "code",
   "execution_count": 49,
   "id": "927b1bf9-67a3-4efb-bde5-361abfe01f45",
   "metadata": {},
   "outputs": [
    {
     "data": {
      "image/png": "[encoded data removed]",
      "text/plain": [
       "<Figure size 1200x800 with 1 Axes>"
      ]
     },
     "metadata": {},
     "output_type": "display_data"
    }
   ],
   "source": [
    "# Visualization of the best route\n",
    "plt.figure(figsize=(12, 8))\n",
    "plt.plot(points_array[:, 0], points_array[:, 1], 'o', color='red')  # Cities\n",
    "\n",
    "# Draw the best path\n",
    "for i in range(1, len(best_route)):\n",
    "    start_point = points_array[best_route[i-1]]\n",
    "    end_point = points_array[best_route[i]]\n",
    "    plt.plot([start_point[0], end_point[0]], [start_point[1], end_point[1]], 'k-')\n",
    "\n",
    "plt.title('Best Route Found by Genetic Algorithm')\n",
    "plt.show()\n",
    "\n"
   ]
  },
  {
   "cell_type": "code",
   "execution_count": null,
   "id": "72f5069e-9031-4bf7-9aba-da9721d57a19",
   "metadata": {},
   "outputs": [],
   "source": []
  }
 ],
 "metadata": {
  "kernelspec": {
   "display_name": "Python 3 (ipykernel)",
   "language": "python",
   "name": "python3"
  },
  "language_info": {
   "codemirror_mode": {
    "name": "ipython",
    "version": 3
   },
   "file_extension": ".py",
   "mimetype": "text/x-python",
   "name": "python",
   "nbconvert_exporter": "python",
   "pygments_lexer": "ipython3",
   "version": "3.10.9"
  }
 },
 "nbformat": 4,
 "nbformat_minor": 5
}
